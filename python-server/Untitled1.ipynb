{
 "cells": [
  {
   "cell_type": "code",
   "execution_count": null,
   "id": "585c1d0b-d227-45ac-938d-ea671d7d6c2c",
   "metadata": {},
   "outputs": [
    {
     "name": "stderr",
     "output_type": "stream",
     "text": [
      "Exception in callback RunEngine.__init__.<locals>.setup_run_permit() at /Users/seij/miniconda3/envs/bluesky/lib/python3.12/site-packages/bluesky/run_engine.py:313\n",
      "handle: <Handle RunEngine.__init__.<locals>.setup_run_permit() at /Users/seij/miniconda3/envs/bluesky/lib/python3.12/site-packages/bluesky/run_engine.py:313>\n",
      "Traceback (most recent call last):\n",
      "  File \"/Users/seij/miniconda3/envs/bluesky/lib/python3.12/asyncio/events.py\", line 88, in _run\n",
      "    self._context.run(self._callback, *self._args)\n",
      "  File \"/Users/seij/miniconda3/envs/bluesky/lib/python3.12/site-packages/bluesky/run_engine.py\", line 314, in setup_run_permit\n",
      "    self._run_permit = asyncio.Event(loop=self._loop_for_kwargs)\n",
      "                       ^^^^^^^^^^^^^^^^^^^^^^^^^^^^^^^^^^^^^^^^^\n",
      "TypeError: Event.__init__() got an unexpected keyword argument 'loop'\n"
     ]
    }
   ],
   "source": [
    "from bluesky import RunEngine\n",
    "\n",
    "RE = RunEngine({})"
   ]
  },
  {
   "cell_type": "code",
   "execution_count": 3,
   "id": "d61011ec-4b46-4be3-b1c0-210c7296b5ae",
   "metadata": {},
   "outputs": [],
   "source": [
    "from ophyd.sim import det1, det2"
   ]
  },
  {
   "cell_type": "code",
   "execution_count": 4,
   "id": "c98cefdf-a5ea-46ed-93f7-371cbfaabc33",
   "metadata": {},
   "outputs": [
    {
     "ename": "NameError",
     "evalue": "name 'RE' is not defined",
     "output_type": "error",
     "traceback": [
      "\u001b[0;31m---------------------------------------------------------------------------\u001b[0m",
      "\u001b[0;31mNameError\u001b[0m                                 Traceback (most recent call last)",
      "Cell \u001b[0;32mIn[4], line 4\u001b[0m\n\u001b[1;32m      1\u001b[0m \u001b[38;5;28;01mfrom\u001b[39;00m \u001b[38;5;21;01mbluesky\u001b[39;00m\u001b[38;5;21;01m.\u001b[39;00m\u001b[38;5;21;01mplans\u001b[39;00m \u001b[38;5;28;01mimport\u001b[39;00m count\n\u001b[1;32m      2\u001b[0m dets \u001b[38;5;241m=\u001b[39m [det1, det2]   \u001b[38;5;66;03m# a list of any number of detectors\u001b[39;00m\n\u001b[0;32m----> 4\u001b[0m \u001b[38;5;28mprint\u001b[39m(RE(count(dets)))\n",
      "\u001b[0;31mNameError\u001b[0m: name 'RE' is not defined"
     ]
    }
   ],
   "source": [
    "from bluesky.plans import count\n",
    "dets = [det1, det2]   # a list of any number of detectors\n",
    "\n",
    "print(RE(count(dets)))"
   ]
  },
  {
   "cell_type": "code",
   "execution_count": null,
   "id": "1e8c2462-2bd0-4c1a-8268-4cfafe476922",
   "metadata": {},
   "outputs": [],
   "source": [
    "RE(count(dets, num=5))"
   ]
  },
  {
   "cell_type": "code",
   "execution_count": null,
   "id": "42baa191-5956-4b76-8380-a66026ae7ba1",
   "metadata": {},
   "outputs": [],
   "source": [
    "count?"
   ]
  },
  {
   "cell_type": "code",
   "execution_count": null,
   "id": "b834aa9b-6c7f-4513-a9a7-a52f66179096",
   "metadata": {},
   "outputs": [],
   "source": [
    "print(5)"
   ]
  },
  {
   "cell_type": "code",
   "execution_count": null,
   "id": "c6e39298-b52e-40cf-932d-2c5b96478276",
   "metadata": {},
   "outputs": [],
   "source": [
    "from bluesky import RunEngine\n",
    "\n",
    "RE = RunEngine({})"
   ]
  },
  {
   "cell_type": "code",
   "execution_count": null,
   "id": "82552297-546d-40f8-bd63-982d8add57cb",
   "metadata": {},
   "outputs": [],
   "source": []
  }
 ],
 "metadata": {
  "kernelspec": {
   "display_name": "Python (bluesky)",
   "language": "python",
   "name": "bluesky-tutorial"
  },
  "language_info": {
   "codemirror_mode": {
    "name": "ipython",
    "version": 3
   },
   "file_extension": ".py",
   "mimetype": "text/x-python",
   "name": "python",
   "nbconvert_exporter": "python",
   "pygments_lexer": "ipython3",
   "version": "3.12.2"
  }
 },
 "nbformat": 4,
 "nbformat_minor": 5
}
